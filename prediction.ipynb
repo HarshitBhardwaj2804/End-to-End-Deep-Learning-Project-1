{
 "cells": [
  {
   "cell_type": "code",
   "execution_count": 3,
   "id": "7dcc410b",
   "metadata": {},
   "outputs": [],
   "source": [
    "import tensorflow as tf\n",
    "import numpy as np\n",
    "from tensorflow.keras.models import load_model\n",
    "import pickle\n",
    "import pandas as pd"
   ]
  },
  {
   "cell_type": "code",
   "execution_count": 5,
   "id": "11062753",
   "metadata": {},
   "outputs": [
    {
     "name": "stdout",
     "output_type": "stream",
     "text": [
      "WARNING:tensorflow:From d:\\CODDING\\Python\\Python_Programs\\Projects\\DL-Project_1\\myenv\\lib\\site-packages\\keras\\src\\backend.py:1398: The name tf.executing_eagerly_outside_functions is deprecated. Please use tf.compat.v1.executing_eagerly_outside_functions instead.\n",
      "\n"
     ]
    }
   ],
   "source": [
    "### loadingpickle models\n",
    "ann_model = load_model(\"ANN_Model.h5\")\n",
    "\n",
    "with open(\"preprocessor_model.pkl\", \"rb\") as file:\n",
    "    preprocessor = pickle.load(file)"
   ]
  },
  {
   "cell_type": "code",
   "execution_count": 6,
   "id": "9223dff0",
   "metadata": {},
   "outputs": [],
   "source": [
    "## Example input data\n",
    "input_data = {\n",
    "    \"CreditScore\" : 600,\n",
    "    \"Geography\" : \"France\",\n",
    "    \"Gender\" : \"Male\",\n",
    "    \"Age\" : 40,\n",
    "    \"Tenure\" : 3,\n",
    "    \"Balance\" : 60000,\n",
    "    \"NumOfProducts\" : 2,\n",
    "    \"HasCrCard\" : 1,\n",
    "    \"IsActiveMember\" : 1,\n",
    "    \"EstimatedSalary\" : 50000\n",
    "}"
   ]
  },
  {
   "cell_type": "code",
   "execution_count": 8,
   "id": "4f298964",
   "metadata": {},
   "outputs": [
    {
     "data": {
      "text/html": [
       "<div>\n",
       "<style scoped>\n",
       "    .dataframe tbody tr th:only-of-type {\n",
       "        vertical-align: middle;\n",
       "    }\n",
       "\n",
       "    .dataframe tbody tr th {\n",
       "        vertical-align: top;\n",
       "    }\n",
       "\n",
       "    .dataframe thead th {\n",
       "        text-align: right;\n",
       "    }\n",
       "</style>\n",
       "<table border=\"1\" class=\"dataframe\">\n",
       "  <thead>\n",
       "    <tr style=\"text-align: right;\">\n",
       "      <th></th>\n",
       "      <th>CreditScore</th>\n",
       "      <th>Geography</th>\n",
       "      <th>Gender</th>\n",
       "      <th>Age</th>\n",
       "      <th>Tenure</th>\n",
       "      <th>Balance</th>\n",
       "      <th>NumOfProducts</th>\n",
       "      <th>HasCrCard</th>\n",
       "      <th>IsActiveMember</th>\n",
       "      <th>EstimatedSalary</th>\n",
       "    </tr>\n",
       "  </thead>\n",
       "  <tbody>\n",
       "    <tr>\n",
       "      <th>0</th>\n",
       "      <td>600</td>\n",
       "      <td>France</td>\n",
       "      <td>Male</td>\n",
       "      <td>40</td>\n",
       "      <td>3</td>\n",
       "      <td>60000</td>\n",
       "      <td>2</td>\n",
       "      <td>1</td>\n",
       "      <td>1</td>\n",
       "      <td>50000</td>\n",
       "    </tr>\n",
       "  </tbody>\n",
       "</table>\n",
       "</div>"
      ],
      "text/plain": [
       "   CreditScore Geography Gender  ...  HasCrCard  IsActiveMember  EstimatedSalary\n",
       "0          600    France   Male  ...          1               1            50000\n",
       "\n",
       "[1 rows x 10 columns]"
      ]
     },
     "execution_count": 8,
     "metadata": {},
     "output_type": "execute_result"
    }
   ],
   "source": [
    "input_df = pd.DataFrame([input_data])\n",
    "input_df"
   ]
  },
  {
   "cell_type": "code",
   "execution_count": 10,
   "id": "b7529f9c",
   "metadata": {},
   "outputs": [],
   "source": [
    "input_scaled_array = preprocessor.transform(input_df)"
   ]
  },
  {
   "cell_type": "code",
   "execution_count": 12,
   "id": "df0259be",
   "metadata": {},
   "outputs": [
    {
     "data": {
      "text/plain": [
       "(1, 12)"
      ]
     },
     "execution_count": 12,
     "metadata": {},
     "output_type": "execute_result"
    }
   ],
   "source": [
    "input_scaled_array.shape"
   ]
  },
  {
   "cell_type": "code",
   "execution_count": 14,
   "id": "97b92d2e",
   "metadata": {},
   "outputs": [
    {
     "name": "stdout",
     "output_type": "stream",
     "text": [
      "1/1 [==============================] - 0s 302ms/step\n"
     ]
    }
   ],
   "source": [
    "y_pred_prob = ann_model.predict(input_scaled_array)"
   ]
  },
  {
   "cell_type": "code",
   "execution_count": 26,
   "id": "ffe06f4e",
   "metadata": {},
   "outputs": [
    {
     "data": {
      "text/plain": [
       "0.073275395"
      ]
     },
     "execution_count": 26,
     "metadata": {},
     "output_type": "execute_result"
    }
   ],
   "source": [
    "y_pred_prob[0][0]"
   ]
  },
  {
   "cell_type": "code",
   "execution_count": null,
   "id": "56ff1226",
   "metadata": {},
   "outputs": [],
   "source": [
    "y_pred = [1 if y_pred_prob>0.5 else 0 ]"
   ]
  },
  {
   "cell_type": "code",
   "execution_count": 19,
   "id": "8ef3a16f",
   "metadata": {},
   "outputs": [
    {
     "name": "stdout",
     "output_type": "stream",
     "text": [
      "Customer is unlikely to Churn!\n"
     ]
    }
   ],
   "source": [
    "if y_pred == 1:\n",
    "    print(\"Customer is likely to Churn!\")\n",
    "else:\n",
    "    print(\"Customer is unlikely to Churn!\")"
   ]
  },
  {
   "cell_type": "code",
   "execution_count": null,
   "id": "6447c0b6",
   "metadata": {},
   "outputs": [],
   "source": []
  },
  {
   "cell_type": "code",
   "execution_count": null,
   "id": "ec4f407f",
   "metadata": {},
   "outputs": [],
   "source": []
  }
 ],
 "metadata": {
  "kernelspec": {
   "display_name": "myenv",
   "language": "python",
   "name": "python3"
  },
  "language_info": {
   "codemirror_mode": {
    "name": "ipython",
    "version": 3
   },
   "file_extension": ".py",
   "mimetype": "text/x-python",
   "name": "python",
   "nbconvert_exporter": "python",
   "pygments_lexer": "ipython3",
   "version": "3.10.0"
  }
 },
 "nbformat": 4,
 "nbformat_minor": 5
}
